{
  "nbformat": 4,
  "nbformat_minor": 0,
  "metadata": {
    "colab": {
      "provenance": []
    },
    "kernelspec": {
      "name": "python3",
      "display_name": "Python 3"
    },
    "language_info": {
      "name": "python"
    }
  },
  "cells": [
    {
      "cell_type": "code",
      "source": [
        "# unzip the uploaded data into google drive\n",
        "# !unzip \"drive/MyDrive/Dog-vision/dog-breed-identification.zip\" -d \"drive/MyDrive/Dog-vision/\""
      ],
      "metadata": {
        "id": "k21wmt1l8Z3a"
      },
      "execution_count": 1,
      "outputs": []
    },
    {
      "cell_type": "markdown",
      "source": [
        "# 🐶 End-to-end Multil-class Dog Breed Classification\n",
        "This notebook builds an end-to-end multi-class image classifier using TensorFlow 2.x and TensorFlow Hub.\n",
        "\n",
        "## 1. Problem\n",
        "Identifying the breed of a dog given an image of a dog.\n",
        "\n",
        "When I'm sitting at the cafe and I take a photo of a dog, I want to know what breed of dog it is.\n",
        "\n",
        "## 2. Data\n",
        "The data we're using is from Kaggle's dog breed identification competition.\n",
        "\n",
        "https://www.kaggle.com/c/dog-breed-identification/data\n",
        "\n",
        "## 3. Evaluation\n",
        "The evaluation is a file with prediction probabilities for each dog breed of each test image.\n",
        "\n",
        "https://www.kaggle.com/c/dog-breed-identification/overview/evaluation\n",
        "\n",
        "## 4. Features\n",
        "Some information about the data:\n",
        "\n",
        "We're dealing with images (unstructured data) so it's probably best we use deep learning/transfer learning.\n",
        "There are 120 breeds of dogs (this means there are 120 different classes).\n",
        "There are around 10,000+ images in the training set (these images have labels).\n",
        "There are around 10,000+ images in the test set (these images have no labels, because we'll want to predict them)."
      ],
      "metadata": {
        "id": "XH5bg7CZ-QBc"
      }
    },
    {
      "cell_type": "markdown",
      "source": [
        "## Get our workspace ready\n",
        "Import TensorFlow 2.x ✅\n",
        "Import TensorFlow Hub ✅\n",
        "Make sure we're using a GPU ✅"
      ],
      "metadata": {
        "id": "f3uP139POfEh"
      }
    },
    {
      "cell_type": "code",
      "source": [
        "# Import TensorFlow into Colab\n",
        "import tensorflow as tf\n",
        "print(\"TF version:\", tf.__version__)"
      ],
      "metadata": {
        "colab": {
          "base_uri": "https://localhost:8080/"
        },
        "id": "nnh2GkYyHWsP",
        "outputId": "6d76428f-6e59-44e2-f894-64525c3c0040"
      },
      "execution_count": 2,
      "outputs": [
        {
          "output_type": "stream",
          "name": "stdout",
          "text": [
            "TF version: 2.15.0\n"
          ]
        }
      ]
    }
  ]
}